{
 "cells": [
  {
   "cell_type": "code",
   "execution_count": 92,
   "id": "0e590f93",
   "metadata": {},
   "outputs": [],
   "source": [
    "import os\n",
    "import numpy as np\n",
    "from PIL import Image\n",
    "import torch\n",
    "from torch.utils.data import Dataset, DataLoader\n",
    "from torchvision import transforms\n",
    "\n",
    "import matplotlib.pyplot as plt\n",
    "\n",
    "from u_net import UNet\n",
    "from deep_labv3_plus import get_deeplabv3plus_model\n",
    "\n",
    "import torchvision.utils as vutils\n",
    "import torchvision.transforms.functional as TF\n",
    "import os\n",
    "\n",
    "\n",
    "import matplotlib.pyplot as plt\n",
    "import numpy as np\n",
    "from matplotlib.colors import ListedColormap\n",
    "\n",
    "from sklearn.model_selection import train_test_split"
   ]
  },
  {
   "cell_type": "code",
   "execution_count": 93,
   "id": "a55e8ca9",
   "metadata": {},
   "outputs": [],
   "source": [
    "# Config\n",
    "USE_DEEPLAB = False\n",
    "IMAGE_SIZE = (120, 70)\n",
    "NUM_CLASSES = 10\n",
    "BATCH_SIZE = 4\n",
    "EPOCHS = 1\n",
    "DEVICE = torch.device(\"cuda\" if torch.cuda.is_available() else \"cpu\")\n",
    "\n",
    "# Mappatura esplicita dei valori della maschera (esempio)\n",
    "LABEL_VALUES = [0, 25, 50, 75, 100, 125, 150, 175, 200, 225]  # 10 classi\n",
    "\n",
    "# def map_mask(mask_array):\n",
    "#     mapped = np.zeros_like(mask_array)\n",
    "#     for i, val in enumerate(LABEL_VALUES):\n",
    "#         mapped[mask_array == val] = i\n",
    "#     return mapped\n",
    "\n",
    "def map_mask(mask):\n",
    "    mapped_mask = np.zeros_like(mask)\n",
    "    \n",
    "    mapping = {\n",
    "        0: 0,\n",
    "        23: 1,\n",
    "        76: 2,\n",
    "        150: 3,\n",
    "        165: 4,\n",
    "        195: 5,\n",
    "        210: 6,\n",
    "        230: 7,\n",
    "        240: 8,\n",
    "        255: 9\n",
    "    }\n",
    "    \n",
    "    for original_value, class_index in mapping.items():\n",
    "        mapped_mask[mask == original_value] = class_index\n",
    "\n",
    "    return mapped_mask\n",
    "\n",
    "\n",
    "\n",
    "\n",
    "\n",
    "# Ottieni tutte le coppie immagine-maschera\n",
    "all_images = sorted([os.path.join(\"./output/images\", f) for f in os.listdir(\"./output/images\")])\n",
    "all_masks = sorted([os.path.join(\"./output/masks_color\", f) for f in os.listdir(\"./output/masks_color\")])\n",
    "\n",
    "# Dividi in train e val\n",
    "train_imgs, val_imgs, train_masks, val_masks = train_test_split(all_images, all_masks, test_size=0.2, random_state=42)\n",
    "\n",
    "\n"
   ]
  },
  {
   "cell_type": "code",
   "execution_count": 94,
   "id": "f0cdca3c",
   "metadata": {},
   "outputs": [],
   "source": [
    "class SegmentationDataset(Dataset):\n",
    "    def __init__(self, image_paths, mask_paths, transform=None, mask_transform=None):\n",
    "        self.image_paths = image_paths\n",
    "        self.mask_paths = mask_paths\n",
    "        self.transform = transform\n",
    "        self.mask_transform = mask_transform  # 🔧 aggiunto\n",
    "\n",
    "    def __len__(self):\n",
    "        return len(self.image_paths)\n",
    "\n",
    "    def __getitem__(self, idx):\n",
    "        # Carica immagine e maschera\n",
    "        image = Image.open(self.image_paths[idx]).convert(\"RGB\")\n",
    "        mask = Image.open(self.mask_paths[idx]).convert(\"L\")  # Maschera in scala di grigi\n",
    "\n",
    "        # Debug e salvataggio maschere mappate per i primi 3 esempi\n",
    "        if idx < 3:\n",
    "            # mask_np = np.array(mask)\n",
    "            # print(\"Mask before mapping:\", np.unique(mask_np))\n",
    "\n",
    "            # mask_np = map_mask(mask_np)\n",
    "            # print(\"Mask after mapping:\", np.unique(mask_np))\n",
    "\n",
    "\n",
    "            print(\"Classi uniche prima della mappatura:\", np.unique(np.array(mask)))\n",
    "            print(\"Valori unici nella maschera originale:\", np.unique(mask))\n",
    "\n",
    "            mask_np = map_mask(np.array(mask))\n",
    "            print(\"Classi uniche dopo la mappatura:\", np.unique(mask_np))\n",
    "\n",
    "\n",
    "            Image.fromarray(mask_np.astype(np.uint8)).save(f\"check_mask_raw_{idx}.png\")\n",
    "            Image.fromarray((mask_np * 25).astype(np.uint8)).save(f\"check_mask_mapped_{idx}.png\")\n",
    "\n",
    "            mask = Image.fromarray(mask_np.astype(np.uint8))\n",
    "\n",
    "        # Applica trasformazioni\n",
    "        if self.transform:\n",
    "            image = self.transform(image)\n",
    "        else:\n",
    "            image = transforms.ToTensor()(image)\n",
    "\n",
    "        if self.mask_transform:\n",
    "            mask = self.mask_transform(mask)\n",
    "        else:\n",
    "            mask = transforms.PILToTensor()(mask).squeeze(0).long()  # shape [H, W], dtype: long\n",
    "\n",
    "        return image, mask\n",
    "\n",
    "\n"
   ]
  },
  {
   "cell_type": "code",
   "execution_count": 95,
   "id": "bbad1f41",
   "metadata": {},
   "outputs": [],
   "source": [
    "train_dataset = SegmentationDataset(train_imgs, train_masks)\n",
    "val_dataset = SegmentationDataset(val_imgs, val_masks)\n",
    "\n",
    "train_loader = DataLoader(train_dataset, batch_size=BATCH_SIZE, shuffle=False) #true\n",
    "val_loader = DataLoader(val_dataset, batch_size=BATCH_SIZE, shuffle=False)\n",
    "\n",
    "\n",
    "\n",
    "\n"
   ]
  },
  {
   "cell_type": "code",
   "execution_count": 96,
   "id": "f5899bb8",
   "metadata": {},
   "outputs": [
    {
     "data": {
      "image/png": "[encoded data removed]",
      "text/plain": [
       "<Figure size 1000x500 with 2 Axes>"
      ]
     },
     "metadata": {},
     "output_type": "display_data"
    }
   ],
   "source": [
    "# Load and visualize an image and its corresponding label\n",
    "image_path = \"./output/images/frame_0000.png\"\n",
    "label_path = \"./output/masks_color/frame_0000.png\"\n",
    "\n",
    "image = Image.open(image_path)\n",
    "label = Image.open(label_path)\n",
    "\n",
    "# Display\n",
    "plt.figure(figsize=(10, 5))\n",
    "plt.subplot(1, 2, 1)\n",
    "plt.title(\"Image\")\n",
    "plt.imshow(image)\n",
    "plt.subplot(1, 2, 2)\n",
    "plt.title(\"Label\")\n",
    "plt.imshow(label)\n",
    "plt.show()"
   ]
  },
  {
   "cell_type": "code",
   "execution_count": 97,
   "id": "4482be36",
   "metadata": {},
   "outputs": [],
   "source": [
    "# Define a function to denormalize the image\n",
    "def denormalize(tensor, mean, std):\n",
    "    \"\"\" Denormalize the tensor back to the [0, 1] range for visualization. \"\"\"\n",
    "    for i in range(len(mean)):\n",
    "        tensor[i] = tensor[i] * std[i] + mean[i]\n",
    "    return tensor"
   ]
  },
  {
   "cell_type": "code",
   "execution_count": 98,
   "id": "e56de8bd",
   "metadata": {},
   "outputs": [],
   "source": [
    "def show_image(image_tensor):\n",
    "    \"\"\" Display a transformed image using matplotlib. \"\"\"\n",
    "    image_tensor = denormalize(image_tensor, [0.485, 0.456, 0.406], [0.229, 0.224, 0.225])  # Denormalize the image\n",
    "    image = image_tensor.permute(1, 2, 0).numpy()  # Convert to HxWxC format\n",
    "    plt.imshow(image)\n",
    "    plt.axis('off')  # Hide axes\n",
    "    plt.show()\n",
    "\n",
    "# def show_mask(mask_tensor, num_classes=7):\n",
    "#     \"\"\" Display the mask using matplotlib. \"\"\"\n",
    "#     # Convert the one-hot mask to the label mask (indices of the highest value per pixel)\n",
    "#     mask = mask_tensor.squeeze().cpu().numpy()  # Remove the batch dimension and convert to numpy\n",
    "#     label_mask = np.argmax(mask, axis=0)  # Get the class index with the highest value for each pixel\n",
    "\n",
    "#     plt.imshow(label_mask, cmap='tab20')  # Use a colormap suitable for categorical data\n",
    "#     plt.colorbar()  # Optionally add a color bar\n",
    "#     plt.axis('off')  # Hide axes\n",
    "#     plt.show()\n",
    "\n",
    "def show_mask(mask_tensor, num_classes=10):\n",
    "    \"\"\"Visualizza la maschera di segmentazione semantica.\"\"\"\n",
    "    mask_np = mask_tensor.detach().cpu().numpy()\n",
    "\n",
    "    # Caso 1: one-hot (C, H, W)\n",
    "    if mask_np.ndim == 3:\n",
    "        label_mask = np.argmax(mask_np, axis=0)  # Shape: (H, W)\n",
    "    # Caso 2: già label map (H, W)\n",
    "    elif mask_np.ndim == 2:\n",
    "        label_mask = mask_np\n",
    "    else:\n",
    "        raise ValueError(f\"Forma maschera non valida: {mask_np.shape}\")\n",
    "\n",
    "    # Visualizzazione\n",
    "    plt.imshow(label_mask, cmap='tab20', vmin=0, vmax=num_classes - 1)\n",
    "    plt.colorbar()\n",
    "    plt.axis('off')\n",
    "    plt.title(\"Mask\")\n",
    "    plt.show()"
   ]
  },
  {
   "cell_type": "code",
   "execution_count": 99,
   "id": "1760b923",
   "metadata": {},
   "outputs": [
    {
     "name": "stdout",
     "output_type": "stream",
     "text": [
      "Classi uniche prima della mappatura: [  0  23  76 150 165 195 255]\n",
      "Valori unici nella maschera originale: [  0  23  76 150 165 195 255]\n",
      "Classi uniche dopo la mappatura: [0 1 2 3 4 5 9]\n"
     ]
    },
    {
     "data": {
      "image/png": "[encoded data removed]",
      "text/plain": [
       "<Figure size 640x480 with 1 Axes>"
      ]
     },
     "metadata": {},
     "output_type": "display_data"
    },
    {
     "data": {
      "image/png": "[encoded data removed]",
      "text/plain": [
       "<Figure size 640x480 with 2 Axes>"
      ]
     },
     "metadata": {},
     "output_type": "display_data"
    },
    {
     "name": "stdout",
     "output_type": "stream",
     "text": [
      "Classi uniche prima della mappatura: [  0  23  76 150 165 195 255]\n",
      "Valori unici nella maschera originale: [  0  23  76 150 165 195 255]\n",
      "Classi uniche dopo la mappatura: [0 1 2 3 4 5 9]\n"
     ]
    },
    {
     "data": {
      "image/png": "[encoded data removed]",
      "text/plain": [
       "<Figure size 640x480 with 1 Axes>"
      ]
     },
     "metadata": {},
     "output_type": "display_data"
    },
    {
     "data": {
      "image/png": "[encoded data removed]",
      "text/plain": [
       "<Figure size 640x480 with 2 Axes>"
      ]
     },
     "metadata": {},
     "output_type": "display_data"
    },
    {
     "name": "stdout",
     "output_type": "stream",
     "text": [
      "Classi uniche prima della mappatura: [  0  23  76 150 165 195 255]\n",
      "Valori unici nella maschera originale: [  0  23  76 150 165 195 255]\n",
      "Classi uniche dopo la mappatura: [0 1 2 3 4 5 9]\n"
     ]
    },
    {
     "data": {
      "image/png": "[encoded data removed]",
      "text/plain": [
       "<Figure size 640x480 with 1 Axes>"
      ]
     },
     "metadata": {},
     "output_type": "display_data"
    },
    {
     "data": {
      "image/png": "[encoded data removed]",
      "text/plain": [
       "<Figure size 640x480 with 2 Axes>"
      ]
     },
     "metadata": {},
     "output_type": "display_data"
    }
   ],
   "source": [
    "for i in range(3):\n",
    "    image, mask = train_dataset[i]\n",
    "    show_image(image)\n",
    "    show_mask(mask)"
   ]
  },
  {
   "cell_type": "code",
   "execution_count": 100,
   "id": "fa5e75c0",
   "metadata": {},
   "outputs": [
    {
     "name": "stdout",
     "output_type": "stream",
     "text": [
      "Classi uniche prima della mappatura: [  0  23  76 150 165 195 255]\n",
      "Valori unici nella maschera originale: [  0  23  76 150 165 195 255]\n",
      "Classi uniche dopo la mappatura: [0 1 2 3 4 5 9]\n",
      "Classi uniche prima della mappatura: [  0  23  76 150 165 195 255]\n",
      "Valori unici nella maschera originale: [  0  23  76 150 165 195 255]\n",
      "Classi uniche dopo la mappatura: [0 1 2 3 4 5 9]\n",
      "Classi uniche prima della mappatura: [  0  23  76 150 165 195 255]\n",
      "Valori unici nella maschera originale: [  0  23  76 150 165 195 255]\n",
      "Classi uniche dopo la mappatura: [0 1 2 3 4 5 9]\n"
     ]
    },
    {
     "data": {
      "image/png": "[encoded data removed]",
      "text/plain": [
       "<Figure size 640x480 with 1 Axes>"
      ]
     },
     "metadata": {},
     "output_type": "display_data"
    },
    {
     "data": {
      "image/png": "[encoded data removed]",
      "text/plain": [
       "<Figure size 640x480 with 2 Axes>"
      ]
     },
     "metadata": {},
     "output_type": "display_data"
    }
   ],
   "source": [
    "# Visualize the first batch of images\n",
    "for i, (image, label) in enumerate(train_loader):\n",
    "    if i == 0:  # Show only the first batch\n",
    "        show_image(image[0])  # Access the first image of the batch\n",
    "        show_mask(label[0])\n",
    "        break"
   ]
  }
 ],
 "metadata": {
  "kernelspec": {
   "display_name": "Python 3",
   "language": "python",
   "name": "python3"
  },
  "language_info": {
   "codemirror_mode": {
    "name": "ipython",
    "version": 3
   },
   "file_extension": ".py",
   "mimetype": "text/x-python",
   "name": "python",
   "nbconvert_exporter": "python",
   "pygments_lexer": "ipython3",
   "version": "3.10.11"
  }
 },
 "nbformat": 4,
 "nbformat_minor": 5
}
